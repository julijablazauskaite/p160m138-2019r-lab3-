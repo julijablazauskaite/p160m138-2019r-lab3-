{
 "cells": [
  {
   "cell_type": "code",
   "execution_count": 4,
   "metadata": {},
   "outputs": [
    {
     "name": "stderr",
     "output_type": "stream",
     "text": [
      "C:\\Users\\julbla1\\.conda\\envs\\bank-tele\\lib\\site-packages\\plotnine\\ggplot.py:729: PlotnineWarning: Saving 6.4 x 4.8 in image.\n",
      "  from_inches(height, units), units), PlotnineWarning)\n",
      "C:\\Users\\julbla1\\.conda\\envs\\bank-tele\\lib\\site-packages\\plotnine\\ggplot.py:730: PlotnineWarning: Filename: ..\\reports\\figures\\hist_balance_bw.png\n",
      "  warn('Filename: {}'.format(filename), PlotnineWarning)\n",
      "C:\\Users\\julbla1\\.conda\\envs\\bank-tele\\lib\\site-packages\\plotnine\\stats\\stat_bin.py:93: PlotnineWarning: 'stat_bin()' using 'bins = 1447'. Pick better value with 'binwidth'.\n",
      "  warn(msg.format(params['bins']), PlotnineWarning)\n",
      "C:\\Users\\julbla1\\.conda\\envs\\bank-tele\\lib\\site-packages\\plotnine\\ggplot.py:729: PlotnineWarning: Saving 6.4 x 4.8 in image.\n",
      "  from_inches(height, units), units), PlotnineWarning)\n",
      "C:\\Users\\julbla1\\.conda\\envs\\bank-tele\\lib\\site-packages\\plotnine\\ggplot.py:730: PlotnineWarning: Filename: ..\\reports\\figures\\hist_duration_bw.png\n",
      "  warn('Filename: {}'.format(filename), PlotnineWarning)\n",
      "C:\\Users\\julbla1\\.conda\\envs\\bank-tele\\lib\\site-packages\\plotnine\\stats\\stat_bin.py:93: PlotnineWarning: 'stat_bin()' using 'bins = 406'. Pick better value with 'binwidth'.\n",
      "  warn(msg.format(params['bins']), PlotnineWarning)\n"
     ]
    }
   ],
   "source": [
    "import pathlib\n",
    "import os\n",
    "import plotnine as gg\n",
    "import pandas as pd\n",
    "\n",
    "path_bank_df = pathlib.Path(\"../data/raw/bank-full.csv\")\n",
    "\n",
    "bank_df = pd.read_csv(path_bank_df, delimiter=\";\")\n",
    "\n",
    "plot_balance = gg.ggplot(bank_df, gg.aes(x=\"balance\"))+ gg.geom_histogram()\n",
    "plot_duration = gg.ggplot(bank_df, gg.aes(x=\"duration\"))+ gg.geom_histogram()\n",
    "\n",
    "plot_balance.save\n",
    "plot_duration.save\n",
    "\n",
    "plot_ba_bw = plot_balance + gg.theme_bw()\n",
    "plot_du_bw = plot_duration + gg.theme_bw()\n",
    "\n",
    "#issaugom nuotrauka\n",
    "plot_ba_bw.save(pathlib.Path(\"../reports/figures/hist_balance_bw.png\"))\n",
    "plot_du_bw.save(pathlib.Path(\"../reports/figures/hist_duration_bw.png\"))"
   ]
  },
  {
   "cell_type": "code",
   "execution_count": null,
   "metadata": {},
   "outputs": [],
   "source": []
  }
 ],
 "metadata": {
  "kernelspec": {
   "display_name": "Python 3",
   "language": "python",
   "name": "python3"
  },
  "language_info": {
   "codemirror_mode": {
    "name": "ipython",
    "version": 3
   },
   "file_extension": ".py",
   "mimetype": "text/x-python",
   "name": "python",
   "nbconvert_exporter": "python",
   "pygments_lexer": "ipython3",
   "version": "3.7.3"
  }
 },
 "nbformat": 4,
 "nbformat_minor": 2
}
