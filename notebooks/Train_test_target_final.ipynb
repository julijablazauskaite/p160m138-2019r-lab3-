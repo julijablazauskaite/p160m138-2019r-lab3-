{
 "cells": [
  {
   "cell_type": "code",
   "execution_count": 3,
   "metadata": {},
   "outputs": [],
   "source": [
    "%reload_ext autoreload\n",
    "%autoreload 2\n",
    "%matplotlib inline\n",
    "\n",
    "import pathlib\n",
    "\n",
    "import pandas as pd\n",
    "import numpy as np\n",
    "from sklearn.preprocessing import LabelEncoder\n",
    "from sklearn.model_selection import train_test_split\n",
    "\n",
    "path_bank_df = pathlib.Path(\"../data/raw/bank-full.csv\")\n",
    "bank_df = pd.read_csv(path_bank_df, delimiter=\";\")\n",
    "\n",
    "bank_df.describe(include=\"all\").T\n",
    "bank_df.describe(include=\"object\").T\n",
    "bank_df.describe(include=\"number\").T\n",
    "\n",
    "bank_df.count()\n",
    "bank_df.dropna().count()\n",
    "le_y = LabelEncoder()\n",
    "\n",
    "bank_df[\"target\"] = le_y.fit_transform(bank_df[\"y\"])\n",
    "bank_df[\"target\"].describe()\n",
    "\n",
    "bank_data_df = bank_df.drop('y', axis=1)\n",
    "\n",
    "set(bank_df.columns).difference(bank_data_df.columns)\n",
    "\n",
    "X = bank_data_df.drop('target', axis=1)\n",
    "y = bank_data_df['target']\n",
    "\n",
    "seed = 111\n",
    "X_train, X_test, y_train, y_test = train_test_split(X, y, test_size=0.15, random_state=seed, stratify=y)\n",
    "\n",
    "np.mean(y_train)\n",
    "np.mean(y_test)\n",
    "\n",
    "df_train = pd.concat([X_train, pd.DataFrame({\"target\": y_train})], axis=1)\n",
    "df_test = pd.concat([X_test, pd.DataFrame({\"target\": y_test})], axis=1)\n",
    "\n",
    "df_train.to_csv(pathlib.Path(\"../data/interim/bank_train.csv\"), index=False)\n",
    "df_test.to_csv(pathlib.Path(\"../data/interim/bank_test.csv\"), index=False)"
   ]
  },
  {
   "cell_type": "code",
   "execution_count": null,
   "metadata": {},
   "outputs": [],
   "source": []
  }
 ],
 "metadata": {
  "kernelspec": {
   "display_name": "Python 3",
   "language": "python",
   "name": "python3"
  },
  "language_info": {
   "codemirror_mode": {
    "name": "ipython",
    "version": 3
   },
   "file_extension": ".py",
   "mimetype": "text/x-python",
   "name": "python",
   "nbconvert_exporter": "python",
   "pygments_lexer": "ipython3",
   "version": "3.7.3"
  }
 },
 "nbformat": 4,
 "nbformat_minor": 2
}
